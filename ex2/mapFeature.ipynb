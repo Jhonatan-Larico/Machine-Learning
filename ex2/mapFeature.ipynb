{
 "cells": [
  {
   "cell_type": "code",
   "execution_count": 3,
   "metadata": {},
   "outputs": [],
   "source": [
    "import copy\n",
    "\n",
    "def mapFeature(data, features, degree):\n",
    "    \"\"\"\n",
    "    Feature mapping function to polynomial features.\n",
    "    Maps the features to quadratic features.\n",
    "    Returns a new df with more features, comprising of\n",
    "    x1, x2, x1^2, x2^2, x1*x2, x1*x2^2, etc...\n",
    "    Args:\n",
    "        data: a pandas df with index, features and target cols\n",
    "        features: int, the number of initial features\n",
    "        degree: int, the polynomial degree\n",
    "    Returns:\n",
    "        df: a pandas df with the new features\n",
    "    \"\"\"\n",
    "    # Create a copy of the data df.\n",
    "    df = copy.deepcopy(data)\n",
    "    degree = degree\n",
    "    # Insert a first column with ones.\n",
    "    df.insert(0, 'Ones', 1)\n",
    "    x = []\n",
    "    for n in range(1, features + 1):\n",
    "        x.append(df.iloc[:, n])\n",
    "    for i in range(1, degree + 1):\n",
    "        for j in range(0, i + 1):\n",
    "            df['x' + str(i) + str(j)] = np.power(x[0], i-j) * np.power(x[1], j)\n",
    "    \n",
    "    # Drop unnecessary columns.\n",
    "    cols = [0, 1, 2]\n",
    "    df.drop(df.columns[cols], axis=1, inplace=True)\n",
    "    # Move target column to the end.\n",
    "    # Make a list of all of the columns.\n",
    "    cols = df.columns.tolist()\n",
    "    # Reorder columns.\n",
    "    cols = cols[1:] + [cols[0]]\n",
    "    # Commit the reordering.\n",
    "    df = df[cols]\n",
    "    return df"
   ]
  }
 ],
 "metadata": {
  "kernelspec": {
   "display_name": "Python 3",
   "language": "python",
   "name": "python3"
  },
  "language_info": {
   "codemirror_mode": {
    "name": "ipython",
    "version": 3
   },
   "file_extension": ".py",
   "mimetype": "text/x-python",
   "name": "python",
   "nbconvert_exporter": "python",
   "pygments_lexer": "ipython3",
   "version": "3.8.5"
  }
 },
 "nbformat": 4,
 "nbformat_minor": 4
}
