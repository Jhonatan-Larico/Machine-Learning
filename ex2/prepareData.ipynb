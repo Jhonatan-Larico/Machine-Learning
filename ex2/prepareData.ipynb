{
 "cells": [
  {
   "cell_type": "code",
   "execution_count": 3,
   "metadata": {},
   "outputs": [],
   "source": [
    "def prepareData(data, n):\n",
    "    \"\"\"\n",
    "    Add 1s column, convert to arrays,\n",
    "    initialize theta.\n",
    "    Args:\n",
    "        data: read the data file\n",
    "        n: int\n",
    "    Return:\n",
    "        x: a (m, n+1) array\n",
    "        y: a (m, 1) array\n",
    "        theta: a (n+1, 1) array\n",
    "    \"\"\"\n",
    "    # Add a column with 1s in the data set.\n",
    "    data.insert(0, 'Ones', 1)\n",
    "\n",
    "    # Define x and y, separating the data set.\n",
    "    x = data.iloc[:, 0:n+1]\n",
    "    y = data.iloc[:, n+1:n+2]\n",
    "\n",
    "    # Convert to arrays, so this function is\n",
    "    # compatible with scipy.optimize.fmin later.\n",
    "    # Initialize parameters theta to 0s.\n",
    "    # Theta is a (n+1, 1) array,\n",
    "    # where n is the number of features.\n",
    "    x = np.array(x.values)\n",
    "    y = np.array(y.values)\n",
    "    theta = np.zeros((n+1, 1)).reshape(n+1,1)\n",
    "    return x, y, theta"
   ]
  }
 ],
 "metadata": {
  "kernelspec": {
   "display_name": "Python 3",
   "language": "python",
   "name": "python3"
  },
  "language_info": {
   "codemirror_mode": {
    "name": "ipython",
    "version": 3
   },
   "file_extension": ".py",
   "mimetype": "text/x-python",
   "name": "python",
   "nbconvert_exporter": "python",
   "pygments_lexer": "ipython3",
   "version": "3.8.5"
  }
 },
 "nbformat": 4,
 "nbformat_minor": 4
}
