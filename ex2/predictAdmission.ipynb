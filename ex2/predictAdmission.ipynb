{
 "cells": [
  {
   "cell_type": "code",
   "execution_count": null,
   "metadata": {},
   "outputs": [],
   "source": [
    "# Create a prediction function.\n",
    "def predictAdmission(x, theta):\n",
    "    \"\"\"\n",
    "    Predict whether a student will be admitted.\n",
    "    Args:\n",
    "        x: array shape(m, n+1)\n",
    "        theta: ndarray, the optimal parameters of the cost function\n",
    "    Returns:\n",
    "        predicted: array shape(m,) of booleans\n",
    "    \"\"\"\n",
    "    #p = sigmoid(np.dot(x,theta)) >= 0.5\n",
    "\n",
    "    probability = np.array(sigmoid(np.dot(x, theta)))\n",
    "    predicted = probability >= 0.5\n",
    "    return predicted\n"
   ]
  }
 ],
 "metadata": {
  "kernelspec": {
   "display_name": "Python 3",
   "language": "python",
   "name": "python3"
  },
  "language_info": {
   "codemirror_mode": {
    "name": "ipython",
    "version": 3
   },
   "file_extension": ".py",
   "mimetype": "text/x-python",
   "name": "python",
   "nbconvert_exporter": "python",
   "pygments_lexer": "ipython3",
   "version": "3.8.5"
  }
 },
 "nbformat": 4,
 "nbformat_minor": 4
}
