{
 "cells": [
  {
   "cell_type": "code",
   "execution_count": 27,
   "metadata": {},
   "outputs": [],
   "source": [
    "#GRADIEND Compute gradiend for logistic regression\n",
    "def gradiend(theta, x, y):\n",
    "    \"\"\"\n",
    "    Compute the grad function.\n",
    "    Args:\n",
    "        theta: array shape(n+1, 1) \n",
    "        x: array shape(m, n+1) \n",
    "        y: array shape(m, 1)\n",
    "    Returns:\n",
    "        grad: float\n",
    "    \"\"\"\n",
    "    # Initialize some useful values\n",
    "    m = len(y) \n",
    "\n",
    "    # You need to return the following variables correctly    \n",
    "    grad = np.zeros(theta.shape)\n",
    "    \n",
    "    z = x.dot(theta)\n",
    "    g = sigmoid(z)       \n",
    "   \n",
    "    grad = (1/m)*(x.T.dot(g-y))\n",
    "\n",
    "    return grad"
   ]
  }
 ],
 "metadata": {
  "kernelspec": {
   "display_name": "Python 3",
   "language": "python",
   "name": "python3"
  },
  "language_info": {
   "codemirror_mode": {
    "name": "ipython",
    "version": 3
   },
   "file_extension": ".py",
   "mimetype": "text/x-python",
   "name": "python",
   "nbconvert_exporter": "python",
   "pygments_lexer": "ipython3",
   "version": "3.8.5"
  }
 },
 "nbformat": 4,
 "nbformat_minor": 4
}
