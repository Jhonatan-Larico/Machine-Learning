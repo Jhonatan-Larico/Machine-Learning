{
 "cells": [
  {
   "cell_type": "code",
   "execution_count": 13,
   "metadata": {},
   "outputs": [],
   "source": [
    "#GRADIENDREG Compute gradient for logistic regression with regularization\n",
    "def gradiendReg(theta,x,y,lambdaa):\n",
    "    \"\"\"\n",
    "    Compute the grad function.\n",
    "    Args:\n",
    "        theta: array shape(n+1, 1) \n",
    "        x: array shape(m, n+1) \n",
    "        y: array shape(m, 1)\n",
    "    Returns:\n",
    "        grad: float\n",
    "    \"\"\"\n",
    "    \n",
    "    #Initialize some useful values\n",
    "    m = len(y) # number of training examples\n",
    "\n",
    "    #You need to return the following variables correctly \n",
    "    grad = np.zeros(theta.shape)     \n",
    "    \n",
    "    z = x.dot(theta)\n",
    "    g = sigmoid(z)\n",
    "    \n",
    "    #x1 = x[:,0].reshape(m,1)\n",
    "    x2 = x[:,1:].T\n",
    "\n",
    "    grad[0] = (1/m)* np.sum(g-y)   #   x2[mxn+1]  y[mx1]\n",
    "    grad[1:] = (1/m)* np.dot(x2,(g-y))  +  lambdaa/m*np.sum(theta[1:])\n",
    "    \n",
    "\n",
    "    \n",
    "    return grad\n",
    "    \n"
   ]
  }
 ],
 "metadata": {
  "kernelspec": {
   "display_name": "Python 3",
   "language": "python",
   "name": "python3"
  },
  "language_info": {
   "codemirror_mode": {
    "name": "ipython",
    "version": 3
   },
   "file_extension": ".py",
   "mimetype": "text/x-python",
   "name": "python",
   "nbconvert_exporter": "python",
   "pygments_lexer": "ipython3",
   "version": "3.8.5"
  }
 },
 "nbformat": 4,
 "nbformat_minor": 4
}
