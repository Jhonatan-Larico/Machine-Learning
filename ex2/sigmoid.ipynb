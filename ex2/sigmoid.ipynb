{
 "cells": [
  {
   "cell_type": "code",
   "execution_count": 3,
   "metadata": {},
   "outputs": [],
   "source": [
    "#SIGMOID Compute sigmoid function\n",
    "def sigmoid(z):    \n",
    "    \"\"\"\n",
    "    The sigmoid function.\n",
    "    Args:\n",
    "        z: float, vector, matrix\n",
    "    Returns:\n",
    "        sigmoid: float, vector, matrix\n",
    "    \"\"\"\n",
    "    \n",
    "    # You need to return the following variables correctly \n",
    "    g = np.zeros(np.shape(z))\n",
    "    \n",
    "    # another form\n",
    "    #for i in range(np.size(z,0)):\n",
    "    #    try :\n",
    "    #        for j in range(np.size(z,1)):\n",
    "    #            if z[i][j] > 100:\n",
    "    #                z[i][j] = 100\n",
    "    #            elif z[i][j] < -100:\n",
    "    #                z[i][j] = -100\n",
    "    #            else:\n",
    "    #                z[i][j] = z[i][j]\n",
    "    #    except :\n",
    "    #        if z[i] > 100:\n",
    "    #            z[i] = 100\n",
    "    #        elif z[i] < -100:\n",
    "    #            z[i] = -100\n",
    "    #        else:\n",
    "    #            z[i] = z[i]\n",
    "    #g = 1/(1+ pow (np.e,(-z) ))            \n",
    "    g = 1 / (1 + np.exp(-z)) \n",
    "            \n",
    "    return g  "
   ]
  }
 ],
 "metadata": {
  "kernelspec": {
   "display_name": "Python 3",
   "language": "python",
   "name": "python3"
  },
  "language_info": {
   "codemirror_mode": {
    "name": "ipython",
    "version": 3
   },
   "file_extension": ".py",
   "mimetype": "text/x-python",
   "name": "python",
   "nbconvert_exporter": "python",
   "pygments_lexer": "ipython3",
   "version": "3.8.5"
  }
 },
 "nbformat": 4,
 "nbformat_minor": 4
}
