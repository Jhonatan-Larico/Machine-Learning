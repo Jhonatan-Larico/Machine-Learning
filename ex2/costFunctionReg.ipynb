{
 "cells": [
  {
   "cell_type": "code",
   "execution_count": 14,
   "metadata": {},
   "outputs": [],
   "source": [
    "#COSTFUNCTIONREG Compute cost and gradient for logistic regression with regularization\n",
    "\n",
    "def  costFunctionReg(theta, x, y, lambdaa):\n",
    "    \"\"\"\n",
    "    Compute the cost function.\n",
    "    Args:\n",
    "        theta: array shape(n+1, 1) \n",
    "        x: array shape(m, n+1) \n",
    "        y: array shape(m, 1)\n",
    "        lambda_coef: int\n",
    "    Returns:\n",
    "        cost: float\n",
    "    \"\"\"\n",
    "    #Initialize some useful values\n",
    "    m = len(y) # number of training examples\n",
    "\n",
    "    #You need to return the following variables correctly \n",
    "    J = 0      \n",
    "    \n",
    "    z = x.dot(theta)\n",
    "    g = sigmoid(z)\n",
    "\n",
    "    term1 = y* np.log(g).reshape(m,1)\n",
    "    term2 = (1-y)*np.log(1-g).reshape(m,1)\n",
    "    \n",
    "    J = (1/m)* np.sum( -term1 - term2 ,axis = 0)   + lambdaa/(2*m)* np.sum(np.square(theta[1:]))  \n",
    "    J = J[0]\n",
    "    return J"
   ]
  }
 ],
 "metadata": {
  "kernelspec": {
   "display_name": "Python 3",
   "language": "python",
   "name": "python3"
  },
  "language_info": {
   "codemirror_mode": {
    "name": "ipython",
    "version": 3
   },
   "file_extension": ".py",
   "mimetype": "text/x-python",
   "name": "python",
   "nbconvert_exporter": "python",
   "pygments_lexer": "ipython3",
   "version": "3.8.5"
  }
 },
 "nbformat": 4,
 "nbformat_minor": 4
}
