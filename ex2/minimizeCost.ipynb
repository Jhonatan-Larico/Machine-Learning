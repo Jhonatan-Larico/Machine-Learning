{
 "cells": [
  {
   "cell_type": "code",
   "execution_count": null,
   "metadata": {},
   "outputs": [],
   "source": [
    "def minimizeCost(computeCost, theta, x, y):\n",
    "    \"\"\"\n",
    "    Minimize the cost function.\n",
    "    Args:\n",
    "        computeCost: The function to be minimized\n",
    "        theta: initial guess, array shape(n+1, 1)\n",
    "        x: array shape(m, n+1)\n",
    "        y: array shape(m, 1)\n",
    "    Returns:\n",
    "        theta: array shape(n+1, 1), the parameters that minimize the cost\n",
    "    \"\"\"\n",
    "    min_cost = fmin(func=costFunction, x0=theta, args=(x, y))\n",
    "    return min_cost"
   ]
  }
 ],
 "metadata": {
  "kernelspec": {
   "display_name": "Python 3",
   "language": "python",
   "name": "python3"
  },
  "language_info": {
   "codemirror_mode": {
    "name": "ipython",
    "version": 3
   },
   "file_extension": ".py",
   "mimetype": "text/x-python",
   "name": "python",
   "nbconvert_exporter": "python",
   "pygments_lexer": "ipython3",
   "version": "3.8.5"
  }
 },
 "nbformat": 4,
 "nbformat_minor": 4
}
